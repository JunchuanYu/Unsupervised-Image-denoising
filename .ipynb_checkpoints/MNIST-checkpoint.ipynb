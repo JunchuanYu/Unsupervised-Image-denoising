{
 "cells": [
  {
   "cell_type": "code",
   "execution_count": 1,
   "metadata": {},
   "outputs": [
    {
     "name": "stderr",
     "output_type": "stream",
     "text": [
      "/Users/harshitsrivastava/anaconda3/lib/python3.6/site-packages/h5py/__init__.py:36: FutureWarning: Conversion of the second argument of issubdtype from `float` to `np.floating` is deprecated. In future, it will be treated as `np.float64 == np.dtype(float).type`.\n",
      "  from ._conv import register_converters as _register_converters\n"
     ]
    }
   ],
   "source": [
    "import numpy as np\n",
    "import tensorflow as tf\n",
    "import matplotlib.pyplot as plt\n",
    "%matplotlib inline\n",
    "\n",
    "from tensorflow.examples.tutorials.mnist import input_data"
   ]
  },
  {
   "cell_type": "code",
   "execution_count": 2,
   "metadata": {},
   "outputs": [
    {
     "name": "stdout",
     "output_type": "stream",
     "text": [
      "Extracting /tmp/data/train-images-idx3-ubyte.gz\n",
      "Extracting /tmp/data/train-labels-idx1-ubyte.gz\n",
      "Extracting /tmp/data/t10k-images-idx3-ubyte.gz\n",
      "Extracting /tmp/data/t10k-labels-idx1-ubyte.gz\n"
     ]
    }
   ],
   "source": [
    "mnist = input_data.read_data_sets('/tmp/data', one_hot=True)"
   ]
  },
  {
   "cell_type": "code",
   "execution_count": 3,
   "metadata": {},
   "outputs": [],
   "source": [
    "x_train = mnist.train.images\n",
    "y_train = mnist.train.labels\n",
    "x_test = mnist.test.images\n",
    "y_test = mnist.test.labels"
   ]
  },
  {
   "cell_type": "code",
   "execution_count": 4,
   "metadata": {},
   "outputs": [
    {
     "data": {
      "text/plain": [
       "(55000, 10)"
      ]
     },
     "execution_count": 4,
     "metadata": {},
     "output_type": "execute_result"
    }
   ],
   "source": [
    "y_train.shape"
   ]
  },
  {
   "cell_type": "code",
   "execution_count": 5,
   "metadata": {},
   "outputs": [],
   "source": [
    "n_pixels = x_train.shape[1]\n",
    "n_classes = y_train.shape[1]\n",
    "\n",
    "hidden_size = 64\n",
    "epochs = 20\n",
    "batch_size = 500"
   ]
  },
  {
   "cell_type": "code",
   "execution_count": 6,
   "metadata": {},
   "outputs": [],
   "source": [
    "sess = tf.Session()"
   ]
  },
  {
   "cell_type": "code",
   "execution_count": 7,
   "metadata": {},
   "outputs": [],
   "source": [
    "x = tf.placeholder(tf.float32, [None, n_pixels], name = 'pixels')\n",
    "y_label = tf.placeholder(tf.float32, [None, n_classes], name = 'labels')"
   ]
  },
  {
   "cell_type": "code",
   "execution_count": 8,
   "metadata": {},
   "outputs": [],
   "source": [
    "w1 = tf.Variable(tf.truncated_normal([n_pixels, hidden_size], stddev = n_pixels**-0.5))\n",
    "b1 = tf.Variable(tf.zeros([hidden_size]))\n",
    "\n",
    "hidden = tf.nn.sigmoid(tf.matmul(x, w1) + b1)"
   ]
  },
  {
   "cell_type": "code",
   "execution_count": 9,
   "metadata": {},
   "outputs": [],
   "source": [
    "w2 = tf.Variable(tf.truncated_normal([hidden_size, n_classes], stddev = n_pixels**-0.5))\n",
    "b2 = tf.Variable(tf.zeros([n_classes]))\n",
    "\n",
    "y = tf.matmul(hidden, w2) + b2"
   ]
  },
  {
   "cell_type": "code",
   "execution_count": 14,
   "metadata": {},
   "outputs": [],
   "source": [
    "loss = tf.reduce_mean(tf.nn.softmax_cross_entropy_with_logits(logits=y, labels=y_label))\n",
    "accuracy = tf.reduce_mean(tf.cast(tf.equal(tf.argmax(y, 1), tf.argmax(y_label, 1)), tf.float32))"
   ]
  },
  {
   "cell_type": "code",
   "execution_count": 23,
   "metadata": {},
   "outputs": [
    {
     "name": "stdout",
     "output_type": "stream",
     "text": [
      "[0.681782, 0.8364]\n",
      "[0.41897714, 0.8905]\n",
      "[0.346959, 0.9033]\n",
      "[0.31239724, 0.9109]\n",
      "[0.29041988, 0.9159]\n",
      "[0.2742301, 0.9211]\n",
      "[0.26121238, 0.9252]\n",
      "[0.25015226, 0.9289]\n",
      "[0.24041748, 0.9316]\n",
      "[0.23165344, 0.9341]\n",
      "[0.2236498, 0.9363]\n",
      "[0.2162748, 0.9392]\n",
      "[0.20944145, 0.941]\n",
      "[0.20308758, 0.9427]\n",
      "[0.1971658, 0.9441]\n",
      "[0.1916374, 0.9456]\n",
      "[0.18646918, 0.9463]\n",
      "[0.18163203, 0.9475]\n",
      "[0.17710008, 0.9488]\n",
      "[0.17284961, 0.9498]\n"
     ]
    }
   ],
   "source": [
    "sgd = tf.train.GradientDescentOptimizer(learning_rate=0.5).minimize(loss)\n",
    "sess.run(tf.global_variables_initializer())\n",
    "inds = range(x_train.shape[0])\n",
    "\n",
    "for i in np.arange(epochs):\n",
    "    #np.random.shuffle(inds)\n",
    "    for j in np.arange(0, len(inds), batch_size):\n",
    "        sess.run(sgd, feed_dict={x: x_train[inds[j:j+batch_size]], \n",
    "                                 y_label:y_train[inds[j:j+batch_size]]})\n",
    "    \n",
    "    print (sess.run([loss, accuracy], feed_dict={x:x_test, y_label:y_test}))"
   ]
  },
  {
   "cell_type": "code",
   "execution_count": 29,
   "metadata": {},
   "outputs": [],
   "source": [
    "sess.close()"
   ]
  },
  {
   "cell_type": "markdown",
   "metadata": {},
   "source": [
    "## Using CNN"
   ]
  },
  {
   "cell_type": "code",
   "execution_count": 25,
   "metadata": {},
   "outputs": [],
   "source": [
    "def conv2d(x, W):\n",
    "    return tf.nn.conv2d(x, W, strides=[1, 1, 1, 1], padding='SAME')"
   ]
  },
  {
   "cell_type": "code",
   "execution_count": 26,
   "metadata": {},
   "outputs": [],
   "source": [
    "def max_pool_2by2(x):\n",
    "    return tf.nn.max_pool(x, ksize=[1, 2, 2, 1],\n",
    "                          strides=[1, 2, 2, 1], padding='SAME')"
   ]
  },
  {
   "cell_type": "code",
   "execution_count": 30,
   "metadata": {},
   "outputs": [],
   "source": [
    "def CNN(input_x, shape):\n",
    "    w = tf.Variable(tf.truncated_normal(shape, stddev = 0.1))\n",
    "    b = tf.Variable(tf.zeros(shape[3]))\n",
    "    \n",
    "    return tf.nn.relu(conv2d(input_x, w) + b)"
   ]
  },
  {
   "cell_type": "code",
   "execution_count": 31,
   "metadata": {},
   "outputs": [],
   "source": [
    "def fcc(input_layer, n_classes=10):\n",
    "    \"\"\"\n",
    "    alfnaflaf\n",
    "    \"\"\"\n",
    "    input_size = int(input_layer.get_shape()[1])\n",
    "    w = tf.Variable(tf.truncated_normal([n_pixels, hidden_size], stddev = 0.1))\n",
    "    b = tf.Variable(tf.zeros([hidden_size]))\n",
    "    \n",
    "    return tf.matmul(input_layer, w) + b"
   ]
  },
  {
   "cell_type": "code",
   "execution_count": 32,
   "metadata": {},
   "outputs": [],
   "source": [
    "x_image = tf.reshape(x, [-1, 28, 28, 1])\n",
    "conv1 = CNN(x_image, shape=[6, 6, 1, 32])\n",
    "conv1_pool = max_pool_2x2(conv1)"
   ]
  },
  {
   "cell_type": "code",
   "execution_count": 37,
   "metadata": {},
   "outputs": [],
   "source": [
    "conv2 = CNN(conv1_pool, shape=[6, 6, 32, 64])\n",
    "conv2_pool = max_pool_2x2(conv2)"
   ]
  },
  {
   "cell_type": "code",
   "execution_count": null,
   "metadata": {},
   "outputs": [],
   "source": [
    "conv2_flat = tf.reshape(conv2_pool, [-1, 7*7*64])\n",
    "full_layer_one = tf.nn.relu(fcc(conv2_flat, 1024))"
   ]
  },
  {
   "cell_type": "markdown",
   "metadata": {},
   "source": [
    "## Keras API"
   ]
  },
  {
   "cell_type": "code",
   "execution_count": 41,
   "metadata": {},
   "outputs": [],
   "source": [
    "from tensorflow import keras"
   ]
  },
  {
   "cell_type": "code",
   "execution_count": 45,
   "metadata": {},
   "outputs": [],
   "source": [
    "model = keras.models.Sequential()\n",
    "model.add(keras.layers.Dense(hidden_size, activation='sigmoid', input_dim=n_pixels))\n",
    "model.add(keras.layers.Dense(n_classes, activation='softmax'))"
   ]
  },
  {
   "cell_type": "code",
   "execution_count": 47,
   "metadata": {},
   "outputs": [],
   "source": [
    "model.compile(optimizer=tf.train.AdamOptimizer(0.001), \n",
    "             loss = 'categorical_crossentropy', \n",
    "             metrics = ['accuracy'])"
   ]
  },
  {
   "cell_type": "code",
   "execution_count": 48,
   "metadata": {},
   "outputs": [
    {
     "name": "stdout",
     "output_type": "stream",
     "text": [
      "Train on 55000 samples, validate on 10000 samples\n",
      "Epoch 1/20\n",
      "55000/55000 [==============================]55000/55000 [==============================] - 2s 42us/step - loss: 1.2911 - acc: 0.7314 - val_loss: 0.7363 - val_acc: 0.8650\n",
      "\n",
      "Epoch 2/20\n",
      "55000/55000 [==============================]55000/55000 [==============================] - 1s 16us/step - loss: 0.5916 - acc: 0.8746 - val_loss: 0.4656 - val_acc: 0.8961\n",
      "\n",
      "Epoch 3/20\n",
      "55000/55000 [==============================]55000/55000 [==============================] - 1s 15us/step - loss: 0.4258 - acc: 0.8965 - val_loss: 0.3687 - val_acc: 0.9102\n",
      "\n",
      "Epoch 4/20\n",
      "55000/55000 [==============================]55000/55000 [==============================] - 1s 12us/step - loss: 0.3537 - acc: 0.9089 - val_loss: 0.3183 - val_acc: 0.9173\n",
      "\n",
      "Epoch 5/20\n",
      "55000/55000 [==============================]55000/55000 [==============================] - 1s 12us/step - loss: 0.3113 - acc: 0.9173 - val_loss: 0.2880 - val_acc: 0.9212\n",
      "\n",
      "Epoch 6/20\n",
      "55000/55000 [==============================]55000/55000 [==============================] - 1s 12us/step - loss: 0.2825 - acc: 0.9241 - val_loss: 0.2654 - val_acc: 0.9249\n",
      "\n",
      "Epoch 7/20\n",
      "55000/55000 [==============================]55000/55000 [==============================] - 1s 13us/step - loss: 0.2608 - acc: 0.9285 - val_loss: 0.2471 - val_acc: 0.9295\n",
      "\n",
      "Epoch 8/20\n",
      "55000/55000 [==============================]55000/55000 [==============================] - 1s 12us/step - loss: 0.2432 - acc: 0.9326 - val_loss: 0.2341 - val_acc: 0.9338\n",
      "\n",
      "Epoch 9/20\n",
      "55000/55000 [==============================]55000/55000 [==============================] - 1s 11us/step - loss: 0.2284 - acc: 0.9370 - val_loss: 0.2204 - val_acc: 0.9365\n",
      "\n",
      "Epoch 10/20\n",
      "55000/55000 [==============================]55000/55000 [==============================] - 1s 12us/step - loss: 0.2158 - acc: 0.9400 - val_loss: 0.2101 - val_acc: 0.9396\n",
      "\n",
      "Epoch 11/20\n",
      "55000/55000 [==============================]55000/55000 [==============================] - 1s 13us/step - loss: 0.2046 - acc: 0.9431 - val_loss: 0.2008 - val_acc: 0.9422\n",
      "\n",
      "Epoch 12/20\n",
      "55000/55000 [==============================]55000/55000 [==============================] - 1s 13us/step - loss: 0.1944 - acc: 0.9458 - val_loss: 0.1931 - val_acc: 0.9449\n",
      "\n",
      "Epoch 13/20\n",
      "55000/55000 [==============================]55000/55000 [==============================] - 1s 12us/step - loss: 0.1857 - acc: 0.9481 - val_loss: 0.1863 - val_acc: 0.9474\n",
      "\n",
      "Epoch 14/20\n",
      "55000/55000 [==============================]55000/55000 [==============================] - 1s 13us/step - loss: 0.1773 - acc: 0.9500 - val_loss: 0.1787 - val_acc: 0.9500\n",
      "\n",
      "Epoch 15/20\n",
      "55000/55000 [==============================]55000/55000 [==============================] - 1s 12us/step - loss: 0.1698 - acc: 0.9517 - val_loss: 0.1725 - val_acc: 0.9511\n",
      "\n",
      "Epoch 16/20\n",
      "55000/55000 [==============================]55000/55000 [==============================] - 1s 13us/step - loss: 0.1629 - acc: 0.9542 - val_loss: 0.1686 - val_acc: 0.9523\n",
      "\n",
      "Epoch 17/20\n",
      "55000/55000 [==============================]55000/55000 [==============================] - 1s 13us/step - loss: 0.1564 - acc: 0.9553 - val_loss: 0.1627 - val_acc: 0.9537\n",
      "\n",
      "Epoch 18/20\n",
      "55000/55000 [==============================]55000/55000 [==============================] - 1s 15us/step - loss: 0.1504 - acc: 0.9573 - val_loss: 0.1574 - val_acc: 0.9540\n",
      "\n",
      "Epoch 19/20\n",
      "55000/55000 [==============================]55000/55000 [==============================] - 1s 17us/step - loss: 0.1448 - acc: 0.9595 - val_loss: 0.1535 - val_acc: 0.9555\n",
      "\n",
      "Epoch 20/20\n",
      "55000/55000 [==============================]55000/55000 [==============================] - 1s 12us/step - loss: 0.1394 - acc: 0.9611 - val_loss: 0.1505 - val_acc: 0.9553\n",
      "\n"
     ]
    },
    {
     "data": {
      "text/plain": [
       "<tensorflow.python.keras._impl.keras.callbacks.History at 0x1c336fd208>"
      ]
     },
     "execution_count": 48,
     "metadata": {},
     "output_type": "execute_result"
    }
   ],
   "source": [
    "model.fit(x=x_train, y=y_train, batch_size = 500, epochs = 20, validation_data=(x_test, y_test))"
   ]
  },
  {
   "cell_type": "code",
   "execution_count": null,
   "metadata": {},
   "outputs": [],
   "source": []
  }
 ],
 "metadata": {
  "kernelspec": {
   "display_name": "Python 3",
   "language": "python",
   "name": "python3"
  },
  "language_info": {
   "codemirror_mode": {
    "name": "ipython",
    "version": 3
   },
   "file_extension": ".py",
   "mimetype": "text/x-python",
   "name": "python",
   "nbconvert_exporter": "python",
   "pygments_lexer": "ipython3",
   "version": "3.6.4"
  }
 },
 "nbformat": 4,
 "nbformat_minor": 2
}
